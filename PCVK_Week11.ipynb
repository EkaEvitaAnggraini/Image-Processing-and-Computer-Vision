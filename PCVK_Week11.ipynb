{
  "nbformat": 4,
  "nbformat_minor": 0,
  "metadata": {
    "colab": {
      "provenance": [],
      "authorship_tag": "ABX9TyPyR09WCdZwX774WWMY5YMp",
      "include_colab_link": true
    },
    "kernelspec": {
      "name": "python3",
      "display_name": "Python 3"
    },
    "language_info": {
      "name": "python"
    }
  },
  "cells": [
    {
      "cell_type": "markdown",
      "metadata": {
        "id": "view-in-github",
        "colab_type": "text"
      },
      "source": [
        "<a href=\"https://colab.research.google.com/github/EkaEvitaAnggraini/Image-Processing-and-Computer-Vision/blob/main/PCVK_Week11.ipynb\" target=\"_parent\"><img src=\"https://colab.research.google.com/assets/colab-badge.svg\" alt=\"Open In Colab\"/></a>"
      ]
    },
    {
      "cell_type": "markdown",
      "source": [
        "## Practicum"
      ],
      "metadata": {
        "id": "JJDBTM6h1cxW"
      }
    },
    {
      "cell_type": "markdown",
      "source": [
        "### Object Detection\n",
        "Metode yang digunakan:\n",
        "1. Template Matching\n",
        "2. Edge Detection\n",
        "3. Corner\n",
        "4. Grid Detection\n",
        "5. Contour Detection"
      ],
      "metadata": {
        "id": "opTjnjnx1f_O"
      }
    },
    {
      "cell_type": "code",
      "execution_count": null,
      "metadata": {
        "id": "QQ-ir21dZfC6"
      },
      "outputs": [],
      "source": [
        "# Import library yang dibutuhkan\n",
        "import cv2 as cv\n",
        "import numpy as np\n",
        "from matplotlib import pyplot as plt"
      ]
    },
    {
      "cell_type": "code",
      "source": [
        "# Akses drive\n",
        "from google.colab import drive\n",
        "\n",
        "drive.mount('/content/drive')"
      ],
      "metadata": {
        "id": "lRKmQFQM2Am7"
      },
      "execution_count": null,
      "outputs": []
    },
    {
      "cell_type": "markdown",
      "source": [
        "#### **Template Matching**\n",
        "Menggunakan library openCV:\n",
        "\n",
        "**cv.match.Template()** dengan parameter:\n",
        "  - **image**: citra input.\n",
        "  - **templ**: template yang dicari, ukurannya tidak boleh besar dari citra input.\n",
        "  - **method**: metode dari template matching.\n",
        "<br>\n",
        "\n",
        "Jenis metode template matching di OpenCV:\n",
        "1. TM_SQDIFF\n",
        "2. TM_SQDIFF_NORMED\n",
        "3. TM_CCORR\n",
        "4. TM_CCORR_NORMED\n",
        "5. TM_CCOEFF\n",
        "6. TM_CCOEFF_NORMED"
      ],
      "metadata": {
        "id": "IHYd_V3Y2KXM"
      }
    },
    {
      "cell_type": "code",
      "source": [],
      "metadata": {
        "id": "FZmma-2G3YcM"
      },
      "execution_count": null,
      "outputs": []
    }
  ]
}